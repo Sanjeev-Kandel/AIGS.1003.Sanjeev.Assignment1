{
 "cells": [
  {
   "cell_type": "markdown",
   "id": "ff87ae26",
   "metadata": {},
   "source": [
    "Question 1:\n",
    "   \n",
    "   Expression                                                Category\n",
    "   It is raining                                              Rainy\n",
    "   Picnic on a hot afternoon                                  Sunny\n",
    "   They wore sunglasses                                       Sunny\n",
    "   Going out with an Umbrella                                 Rainy\n",
    "   \n",
    "   \n",
    "   P(rainy| a cup of hot coffee) = P(a|rainy) *  P(cup|rainy) *  P(of|rainy) *  P(hot|rainy) * P(coffee|rainy)/  P(rainy)\n",
    "   \n",
    "   \n",
    "   P(sunny| a cone of ice cream) = P(a|sunny) *   P(cone|sunny) *  P(of|sunny) *  P(ice|sunny) *  P(cream|sunny)/ p(sunny)\n",
    "    "
   ]
  },
  {
   "cell_type": "code",
   "execution_count": 64,
   "id": "10496aac",
   "metadata": {},
   "outputs": [
    {
     "name": "stdout",
     "output_type": "stream",
     "text": [
      "Doing classification\n",
      "--------------------\n",
      "data:\t\tdigits\n",
      "classifier:\t\tmostFrequent\n",
      "training set size:\t100\n",
      "Extracting features...\n",
      "Training...\n",
      "Validating...\n",
      "14 correct out of 100 (14.0%).\n",
      "Testing...\n",
      "14 correct out of 100 (14.0%).\n",
      "===================================\n",
      "Mistake on example 0\n",
      "Predicted 1; truth is 9\n",
      "Image: \n",
      "                            \n",
      "                            \n",
      "                            \n",
      "                            \n",
      "                            \n",
      "                            \n",
      "                            \n",
      "             ++###+         \n",
      "             ######+        \n",
      "            +######+        \n",
      "            ##+++##+        \n",
      "           +#+  +##+        \n",
      "           +##++###+        \n",
      "           +#######+        \n",
      "           +#######+        \n",
      "            +##+###         \n",
      "              ++##+         \n",
      "              +##+          \n",
      "              ###+          \n",
      "            +###+           \n",
      "            +##+            \n",
      "           +##+             \n",
      "          +##+              \n",
      "         +##+               \n",
      "         ##+                \n",
      "        +#+                 \n",
      "        +#+                 \n",
      "                            \n"
     ]
    }
   ],
   "source": [
    "!python dataClassifier.py "
   ]
  },
  {
   "cell_type": "code",
   "execution_count": 65,
   "id": "fa34f44c",
   "metadata": {},
   "outputs": [
    {
     "name": "stdout",
     "output_type": "stream",
     "text": [
      "Usage: \n",
      "  USAGE:      python dataClassifier.py <options>\n",
      "  EXAMPLES:   (1) python dataClassifier.py\n",
      "                  - trains the default mostFrequent classifier on the digit dataset\n",
      "                  using the default 100 training examples and\n",
      "                  then test the classifier on test data\n",
      "                 \n",
      "\n",
      "Options:\n",
      "  -h, --help            show this help message and exit\n",
      "  -c CLASSIFIER, --classifier=CLASSIFIER\n",
      "                        The type of classifier [Default: mostFrequent]\n",
      "  -d DATA, --data=DATA  Dataset to use [Default: digits]\n",
      "  -t TRAINING, --training=TRAINING\n",
      "                        The size of the training set [Default: 100]\n",
      "  -a, --autotune        Whether to automatically tune hyperparameters\n",
      "                        [Default: False]\n",
      "  -i ITERATIONS, --iterations=ITERATIONS\n",
      "                        Maximum iterations to run training [Default: 3]\n"
     ]
    }
   ],
   "source": [
    "!python dataClassifier.py -h \n"
   ]
  },
  {
   "cell_type": "code",
   "execution_count": 66,
   "id": "05aeb011",
   "metadata": {},
   "outputs": [
    {
     "name": "stdout",
     "output_type": "stream",
     "text": [
      "Doing classification\n",
      "--------------------\n",
      "data:\t\tdigits\n",
      "classifier:\t\tnaiveBayes\n",
      "training set size:\t100\n",
      "using automatic tuning for naivebayes\n",
      "Extracting features...\n",
      "Training...\n",
      "Method not implemented: trainAndTune\n"
     ]
    }
   ],
   "source": [
    "!python dataClassifier.py -c naiveBayes --autotune \n"
   ]
  },
  {
   "cell_type": "code",
   "execution_count": 67,
   "id": "52caf94b",
   "metadata": {},
   "outputs": [
    {
     "name": "stderr",
     "output_type": "stream",
     "text": [
      "Usage: \n",
      "  USAGE:      python dataClassifier.py <options>\n",
      "  EXAMPLES:   (1) python dataClassifier.py\n",
      "                  - trains the default mostFrequent classifier on the digit dataset\n",
      "                  using the default 100 training examples and\n",
      "                  then test the classifier on test data\n",
      "                 \n",
      "\n",
      "dataClassifier.py: error: no such option: -o\n"
     ]
    }
   ],
   "source": [
    "!python dataClassifier.py -a -d digits -c naiveBayes -o -1 3 -2 6 "
   ]
  },
  {
   "cell_type": "code",
   "execution_count": null,
   "id": "df758c7e",
   "metadata": {},
   "outputs": [],
   "source": []
  }
 ],
 "metadata": {
  "kernelspec": {
   "display_name": "Python 3 (ipykernel)",
   "language": "python",
   "name": "python3"
  },
  "language_info": {
   "codemirror_mode": {
    "name": "ipython",
    "version": 3
   },
   "file_extension": ".py",
   "mimetype": "text/x-python",
   "name": "python",
   "nbconvert_exporter": "python",
   "pygments_lexer": "ipython3",
   "version": "3.11.4"
  }
 },
 "nbformat": 4,
 "nbformat_minor": 5
}
